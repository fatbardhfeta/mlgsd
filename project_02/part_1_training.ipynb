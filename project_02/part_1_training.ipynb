{
 "cells": [
  {
   "cell_type": "code",
   "execution_count": 281,
   "metadata": {},
   "outputs": [
    {
     "name": "stdout",
     "output_type": "stream",
     "text": [
      "The autoreload extension is already loaded. To reload it, use:\n",
      "  %reload_ext autoreload\n"
     ]
    }
   ],
   "source": [
    "%load_ext autoreload\n",
    "%autoreload 2\n",
    "import torch\n",
    "from torch.utils.data import DataLoader\n",
    "from torch.optim import Adam\n",
    "from matplotlib import pyplot as plt\n",
    "from utils import get_mnist_data\n",
    "from models import ConvNN\n",
    "from training_and_evaluation import train_model, predict_model\n",
    "from attacks import fast_gradient_attack\n",
    "from torch.nn.functional import cross_entropy\n",
    "import os\n",
    "if not os.path.isdir(\"models\"):\n",
    "    os.mkdir(\"models\")"
   ]
  },
  {
   "cell_type": "markdown",
   "metadata": {},
   "source": [
    "# Project 2, part 1: Creating adversarial examples (50 pt)\n",
    "In this notebook we train a basic convolutional neural network on MNIST and craft adversarial examples via gradient descent.\n",
    "\n",
    "## Your task\n",
    "Complete the missing code in the respective files, i.e. `training_and_evaluation.py`, `attacks.py`, and this notebook. Make sure that all the functions follow the provided specification, i.e. the output of the function exactly matches the description in the docstring. \n",
    "\n",
    "Specifically, for this part you will have to implement the following functions / classes:  \n",
    "**`training_and_evaluation.py`**:\n",
    "* `train_model` (15pt)\n",
    "* `predict_model` (10pt)\n",
    "\n",
    "**`attacks.py`**:\n",
    "* `fast_gradient_attack` (15pt)\n",
    "\n",
    "**This notebook**\n",
    "* Cells in the Qualitative Evaluation section. (10pt)\n",
    "\n",
    "## General remarks\n",
    "Do not add or modify any code outside of the following comment blocks, or where otherwise explicitly stated.\n",
    "\n",
    "``` python\n",
    "##########################################################\n",
    "# YOUR CODE HERE\n",
    "...\n",
    "##########################################################\n",
    "```\n",
    "After you fill in all the missing code, restart the kernel and re-run all the cells in the notebook.\n",
    "\n",
    "The following things are **NOT** allowed:\n",
    "- Using additional `import` statements\n",
    "- Copying / reusing code from other sources (e.g. code by other students)\n",
    "\n",
    "If you plagiarise even for a single project task, you won't be eligible for the bonus this semester."
   ]
  },
  {
   "cell_type": "code",
   "execution_count": 308,
   "metadata": {},
   "outputs": [
    {
     "name": "stdout",
     "output_type": "stream",
     "text": [
      "False\n"
     ]
    }
   ],
   "source": [
    "mnist_trainset = get_mnist_data(train=True)\n",
    "mnist_testset = get_mnist_data(train=False)\n",
    "\n",
    "use_cuda = torch.cuda.is_available() #and False\n",
    "print(use_cuda)\n",
    "\n",
    "model = ConvNN()\n",
    "if use_cuda:\n",
    "    model = model.cuda()\n",
    "\n",
    "epochs = 1\n",
    "batch_size = 128\n",
    "test_batch_size = 1000  # feel free to change this\n",
    "lr = 1e-3\n",
    "\n",
    "opt = Adam(model.parameters(), lr=lr)"
   ]
  },
  {
   "cell_type": "code",
   "execution_count": 309,
   "metadata": {},
   "outputs": [],
   "source": [
    "def loss_function(x, y, model):\n",
    "    logits = model(x).cpu()\n",
    "    loss = cross_entropy(logits, y)\n",
    "    return loss, logits"
   ]
  },
  {
   "cell_type": "markdown",
   "metadata": {},
   "source": [
    "Implement the `train_model` function in the file `training_and_evaluation.py`."
   ]
  },
  {
   "cell_type": "code",
   "execution_count": 310,
   "metadata": {},
   "outputs": [
    {
     "data": {
      "application/vnd.jupyter.widget-view+json": {
       "model_id": "afe546d26c034b8992b2b8219bee7d5f",
       "version_major": 2,
       "version_minor": 0
      },
      "text/plain": [
       "HBox(children=(IntProgress(value=0, max=469), HTML(value='')))"
      ]
     },
     "metadata": {},
     "output_type": "display_data"
    }
   ],
   "source": [
    "losses, accuracies = train_model(model, mnist_trainset, batch_size=batch_size, loss_function=loss_function, optimizer=opt)"
   ]
  },
  {
   "cell_type": "code",
   "execution_count": 311,
   "metadata": {},
   "outputs": [],
   "source": [
    "torch.save(model.state_dict(), \"models/standard_training.checkpoint\")"
   ]
  },
  {
   "cell_type": "code",
   "execution_count": 312,
   "metadata": {},
   "outputs": [
    {
     "data": {
      "text/plain": [
       "<All keys matched successfully>"
      ]
     },
     "execution_count": 312,
     "metadata": {},
     "output_type": "execute_result"
    }
   ],
   "source": [
    "model.load_state_dict(torch.load(\"models/standard_training.checkpoint\", map_location=\"cpu\"))"
   ]
  },
  {
   "cell_type": "code",
   "execution_count": 313,
   "metadata": {},
   "outputs": [
    {
     "data": {
      "image/png": "[encoded data removed]",
      "text/plain": [
       "<Figure size 720x216 with 2 Axes>"
      ]
     },
     "metadata": {
      "needs_background": "light"
     },
     "output_type": "display_data"
    }
   ],
   "source": [
    "fig = plt.figure(figsize=(10,3))\n",
    "plt.subplot(121)\n",
    "plt.plot(losses)\n",
    "plt.xlabel(\"Iteration\")\n",
    "plt.ylabel(\"Training Loss\")\n",
    "plt.subplot(122)\n",
    "plt.plot(accuracies)\n",
    "plt.xlabel(\"Iteration\")\n",
    "plt.ylabel(\"Training Accuracy\")\n",
    "plt.show()"
   ]
  },
  {
   "cell_type": "markdown",
   "metadata": {},
   "source": [
    "Implement the `predict_model` function in the file `training_and_evaluation.py`."
   ]
  },
  {
   "cell_type": "code",
   "execution_count": 335,
   "metadata": {},
   "outputs": [
    {
     "data": {
      "application/vnd.jupyter.widget-view+json": {
       "model_id": "dfc4cdd6254d4a64a931a2c51ecd0c3e",
       "version_major": 2,
       "version_minor": 0
      },
      "text/plain": [
       "HBox(children=(IntProgress(value=0, max=10), HTML(value='')))"
      ]
     },
     "metadata": {},
     "output_type": "display_data"
    }
   ],
   "source": [
    "clean_accuracy = predict_model(model, mnist_testset, batch_size=test_batch_size, attack_function=None)"
   ]
  },
  {
   "cell_type": "code",
   "execution_count": 336,
   "metadata": {},
   "outputs": [
    {
     "data": {
      "text/plain": [
       "0.9563000202178955"
      ]
     },
     "execution_count": 336,
     "metadata": {},
     "output_type": "execute_result"
    }
   ],
   "source": [
    "clean_accuracy"
   ]
  },
  {
   "cell_type": "markdown",
   "metadata": {},
   "source": [
    "### Creating adversarial examples\n",
    "#### $L_2$-bounded attacks\n",
    "Fist, craft adversarial perturbations that have a $L_2$ norm of $ \\| \\tilde{\\mathbf{x}} - \\mathbf{x} \\|_2 = \\epsilon$ with $\\epsilon=5$.\n",
    "\n",
    "#### $L_\\infty$-bounded attacks\n",
    "Afterwards, craft adversarial perturbations with $L_\\infty$ norm of $ \\| \\tilde{\\mathbf{x}} - \\mathbf{x} \\|_\\infty = \\epsilon$ with $\\epsilon=0.3$.\n",
    "\n",
    "For this you need to implement `predict_model` in the file `training_and_evaluation.py` and `fast_gradient_attack` in `attacks.py`. See the docstring comments there."
   ]
  },
  {
   "cell_type": "code",
   "execution_count": 346,
   "metadata": {},
   "outputs": [],
   "source": [
    "attack_args_l2 = {\"epsilon\": 5, \"norm\": \"2\"}\n",
    "attack_args_linf = {\"epsilon\": 0.3, \"norm\": \"inf\"}"
   ]
  },
  {
   "cell_type": "markdown",
   "metadata": {},
   "source": [
    "### Qualitative evaluation\n",
    "\n",
    "First, craft adversarial examples for 10 randomly selected test samples and inspect them by plotting them."
   ]
  },
  {
   "cell_type": "markdown",
   "metadata": {},
   "source": [
    "$L_2$ attack:"
   ]
  },
  {
   "cell_type": "code",
   "execution_count": 396,
   "metadata": {},
   "outputs": [
    {
     "name": "stdout",
     "output_type": "stream",
     "text": [
      "torch.Size([])\n",
      "torch.Size([10, 1, 28, 28])\n",
      "torch.Size([])\n",
      "torch.Size([10, 1, 28, 28])\n",
      "torch.Size([])\n",
      "torch.Size([10, 1, 28, 28])\n",
      "torch.Size([])\n",
      "torch.Size([10, 1, 28, 28])\n",
      "torch.Size([])\n",
      "torch.Size([10, 1, 28, 28])\n",
      "torch.Size([])\n",
      "torch.Size([10, 1, 28, 28])\n",
      "torch.Size([])\n",
      "torch.Size([10, 1, 28, 28])\n",
      "torch.Size([])\n",
      "torch.Size([10, 1, 28, 28])\n",
      "torch.Size([])\n",
      "torch.Size([10, 1, 28, 28])\n",
      "torch.Size([])\n",
      "torch.Size([10, 1, 28, 28])\n",
      "torch.Size([])\n",
      "torch.Size([10, 1, 28, 28])\n",
      "torch.Size([])\n",
      "torch.Size([10, 1, 28, 28])\n",
      "torch.Size([])\n",
      "torch.Size([10, 1, 28, 28])\n",
      "torch.Size([])\n",
      "torch.Size([10, 1, 28, 28])\n",
      "torch.Size([])\n",
      "torch.Size([10, 1, 28, 28])\n",
      "torch.Size([])\n",
      "torch.Size([10, 1, 28, 28])\n",
      "torch.Size([])\n",
      "torch.Size([10, 1, 28, 28])\n",
      "torch.Size([])\n",
      "torch.Size([10, 1, 28, 28])\n",
      "torch.Size([])\n",
      "torch.Size([10, 1, 28, 28])\n",
      "torch.Size([])\n",
      "torch.Size([10, 1, 28, 28])\n",
      "torch.Size([])\n",
      "torch.Size([10, 1, 28, 28])\n",
      "torch.Size([])\n",
      "torch.Size([10, 1, 28, 28])\n",
      "torch.Size([])\n",
      "torch.Size([10, 1, 28, 28])\n",
      "torch.Size([])\n",
      "torch.Size([10, 1, 28, 28])\n",
      "torch.Size([])\n",
      "torch.Size([10, 1, 28, 28])\n",
      "torch.Size([])\n",
      "torch.Size([10, 1, 28, 28])\n",
      "torch.Size([])\n",
      "torch.Size([10, 1, 28, 28])\n",
      "torch.Size([])\n",
      "torch.Size([10, 1, 28, 28])\n",
      "torch.Size([])\n",
      "torch.Size([10, 1, 28, 28])\n",
      "torch.Size([])\n",
      "torch.Size([10, 1, 28, 28])\n",
      "torch.Size([])\n",
      "torch.Size([10, 1, 28, 28])\n",
      "torch.Size([])\n",
      "torch.Size([10, 1, 28, 28])\n",
      "torch.Size([])\n",
      "torch.Size([10, 1, 28, 28])\n",
      "torch.Size([])\n",
      "torch.Size([10, 1, 28, 28])\n",
      "torch.Size([])\n",
      "torch.Size([10, 1, 28, 28])\n",
      "torch.Size([])\n",
      "torch.Size([10, 1, 28, 28])\n",
      "torch.Size([])\n",
      "torch.Size([10, 1, 28, 28])\n",
      "torch.Size([])\n",
      "torch.Size([10, 1, 28, 28])\n",
      "torch.Size([])\n",
      "torch.Size([10, 1, 28, 28])\n",
      "torch.Size([])\n",
      "torch.Size([10, 1, 28, 28])\n",
      "torch.Size([])\n",
      "torch.Size([10, 1, 28, 28])\n",
      "torch.Size([])\n",
      "torch.Size([10, 1, 28, 28])\n",
      "torch.Size([])\n",
      "torch.Size([10, 1, 28, 28])\n",
      "torch.Size([])\n",
      "torch.Size([10, 1, 28, 28])\n",
      "torch.Size([])\n",
      "torch.Size([10, 1, 28, 28])\n",
      "torch.Size([])\n",
      "torch.Size([10, 1, 28, 28])\n",
      "torch.Size([])\n",
      "torch.Size([10, 1, 28, 28])\n",
      "torch.Size([])\n",
      "torch.Size([10, 1, 28, 28])\n",
      "torch.Size([])\n",
      "torch.Size([10, 1, 28, 28])\n",
      "torch.Size([])\n",
      "torch.Size([10, 1, 28, 28])\n",
      "torch.Size([])\n",
      "torch.Size([10, 1, 28, 28])\n",
      "torch.Size([])\n",
      "torch.Size([10, 1, 28, 28])\n",
      "torch.Size([])\n",
      "torch.Size([10, 1, 28, 28])\n",
      "torch.Size([])\n",
      "torch.Size([10, 1, 28, 28])\n",
      "torch.Size([])\n",
      "torch.Size([10, 1, 28, 28])\n",
      "torch.Size([])\n",
      "torch.Size([10, 1, 28, 28])\n",
      "torch.Size([])\n",
      "torch.Size([10, 1, 28, 28])\n",
      "torch.Size([])\n",
      "torch.Size([10, 1, 28, 28])\n",
      "torch.Size([])\n",
      "torch.Size([10, 1, 28, 28])\n",
      "torch.Size([])\n",
      "torch.Size([10, 1, 28, 28])\n",
      "torch.Size([])\n",
      "torch.Size([10, 1, 28, 28])\n",
      "torch.Size([])\n",
      "torch.Size([10, 1, 28, 28])\n",
      "torch.Size([])\n",
      "torch.Size([10, 1, 28, 28])\n",
      "torch.Size([])\n",
      "torch.Size([10, 1, 28, 28])\n",
      "torch.Size([])\n",
      "torch.Size([10, 1, 28, 28])\n",
      "torch.Size([])\n",
      "torch.Size([10, 1, 28, 28])\n",
      "torch.Size([])\n",
      "torch.Size([10, 1, 28, 28])\n",
      "torch.Size([])\n",
      "torch.Size([10, 1, 28, 28])\n",
      "torch.Size([])\n",
      "torch.Size([10, 1, 28, 28])\n",
      "torch.Size([])\n",
      "torch.Size([10, 1, 28, 28])\n",
      "torch.Size([])\n",
      "torch.Size([10, 1, 28, 28])\n",
      "torch.Size([])\n",
      "torch.Size([10, 1, 28, 28])\n",
      "torch.Size([])\n",
      "torch.Size([10, 1, 28, 28])\n",
      "torch.Size([])\n",
      "torch.Size([10, 1, 28, 28])\n",
      "torch.Size([])\n",
      "torch.Size([10, 1, 28, 28])\n",
      "torch.Size([])\n",
      "torch.Size([10, 1, 28, 28])\n",
      "torch.Size([])\n",
      "torch.Size([10, 1, 28, 28])\n",
      "torch.Size([])\n",
      "torch.Size([10, 1, 28, 28])\n",
      "torch.Size([])\n",
      "torch.Size([10, 1, 28, 28])\n",
      "torch.Size([])\n",
      "torch.Size([10, 1, 28, 28])\n",
      "torch.Size([])\n",
      "torch.Size([10, 1, 28, 28])\n",
      "torch.Size([])\n",
      "torch.Size([10, 1, 28, 28])\n",
      "torch.Size([])\n",
      "torch.Size([10, 1, 28, 28])\n",
      "torch.Size([])\n",
      "torch.Size([10, 1, 28, 28])\n",
      "torch.Size([])\n",
      "torch.Size([10, 1, 28, 28])\n",
      "torch.Size([])\n",
      "torch.Size([10, 1, 28, 28])\n",
      "torch.Size([])\n",
      "torch.Size([10, 1, 28, 28])\n",
      "torch.Size([])\n",
      "torch.Size([10, 1, 28, 28])\n",
      "torch.Size([])\n",
      "torch.Size([10, 1, 28, 28])\n",
      "torch.Size([])\n",
      "torch.Size([10, 1, 28, 28])\n",
      "torch.Size([])\n",
      "torch.Size([10, 1, 28, 28])\n",
      "torch.Size([])\n",
      "torch.Size([10, 1, 28, 28])\n",
      "torch.Size([])\n",
      "torch.Size([10, 1, 28, 28])\n",
      "torch.Size([])\n",
      "torch.Size([10, 1, 28, 28])\n",
      "torch.Size([])\n",
      "torch.Size([10, 1, 28, 28])\n",
      "torch.Size([])\n",
      "torch.Size([10, 1, 28, 28])\n",
      "torch.Size([])\n",
      "torch.Size([10, 1, 28, 28])\n",
      "torch.Size([])\n",
      "torch.Size([10, 1, 28, 28])\n",
      "torch.Size([])\n",
      "torch.Size([10, 1, 28, 28])\n",
      "torch.Size([])\n",
      "torch.Size([10, 1, 28, 28])\n",
      "torch.Size([])\n",
      "torch.Size([10, 1, 28, 28])\n",
      "torch.Size([])\n",
      "torch.Size([10, 1, 28, 28])\n",
      "torch.Size([])\n",
      "torch.Size([10, 1, 28, 28])\n",
      "torch.Size([])\n",
      "torch.Size([10, 1, 28, 28])\n",
      "torch.Size([])\n",
      "torch.Size([10, 1, 28, 28])\n",
      "torch.Size([])\n",
      "torch.Size([10, 1, 28, 28])\n",
      "torch.Size([])\n",
      "torch.Size([10, 1, 28, 28])\n",
      "torch.Size([])\n",
      "torch.Size([10, 1, 28, 28])\n",
      "torch.Size([])\n",
      "torch.Size([10, 1, 28, 28])\n",
      "torch.Size([])\n",
      "torch.Size([10, 1, 28, 28])\n",
      "torch.Size([])\n",
      "torch.Size([10, 1, 28, 28])\n",
      "torch.Size([])\n",
      "torch.Size([10, 1, 28, 28])\n",
      "torch.Size([])\n",
      "torch.Size([10, 1, 28, 28])\n",
      "torch.Size([])\n",
      "torch.Size([10, 1, 28, 28])\n",
      "torch.Size([])\n",
      "torch.Size([10, 1, 28, 28])\n",
      "torch.Size([])\n",
      "torch.Size([10, 1, 28, 28])\n",
      "torch.Size([])\n",
      "torch.Size([10, 1, 28, 28])\n",
      "torch.Size([])\n",
      "torch.Size([10, 1, 28, 28])\n",
      "torch.Size([])\n",
      "torch.Size([10, 1, 28, 28])\n",
      "torch.Size([])\n",
      "torch.Size([10, 1, 28, 28])\n",
      "torch.Size([])\n",
      "torch.Size([10, 1, 28, 28])\n",
      "torch.Size([])\n",
      "torch.Size([10, 1, 28, 28])\n",
      "torch.Size([])\n",
      "torch.Size([10, 1, 28, 28])\n",
      "torch.Size([])\n",
      "torch.Size([10, 1, 28, 28])\n",
      "torch.Size([])\n",
      "torch.Size([10, 1, 28, 28])\n",
      "torch.Size([])\n",
      "torch.Size([10, 1, 28, 28])\n",
      "torch.Size([])\n",
      "torch.Size([10, 1, 28, 28])\n",
      "torch.Size([])\n",
      "torch.Size([10, 1, 28, 28])\n",
      "torch.Size([])\n",
      "torch.Size([10, 1, 28, 28])\n",
      "torch.Size([])\n",
      "torch.Size([10, 1, 28, 28])\n",
      "torch.Size([])\n",
      "torch.Size([10, 1, 28, 28])\n",
      "torch.Size([])\n",
      "torch.Size([10, 1, 28, 28])\n",
      "torch.Size([])\n",
      "torch.Size([10, 1, 28, 28])\n",
      "torch.Size([])\n",
      "torch.Size([10, 1, 28, 28])\n",
      "torch.Size([])\n",
      "torch.Size([10, 1, 28, 28])\n",
      "torch.Size([])\n",
      "torch.Size([10, 1, 28, 28])\n",
      "torch.Size([])\n",
      "torch.Size([10, 1, 28, 28])\n",
      "torch.Size([])\n",
      "torch.Size([10, 1, 28, 28])\n",
      "torch.Size([])\n",
      "torch.Size([10, 1, 28, 28])\n",
      "torch.Size([])\n",
      "torch.Size([10, 1, 28, 28])\n",
      "torch.Size([])\n",
      "torch.Size([10, 1, 28, 28])\n",
      "torch.Size([])\n",
      "torch.Size([10, 1, 28, 28])\n",
      "torch.Size([])\n",
      "torch.Size([10, 1, 28, 28])\n",
      "torch.Size([])\n",
      "torch.Size([10, 1, 28, 28])\n",
      "torch.Size([])\n",
      "torch.Size([10, 1, 28, 28])\n",
      "torch.Size([])\n",
      "torch.Size([10, 1, 28, 28])\n",
      "torch.Size([])\n",
      "torch.Size([10, 1, 28, 28])\n",
      "torch.Size([])\n",
      "torch.Size([10, 1, 28, 28])\n",
      "torch.Size([])\n",
      "torch.Size([10, 1, 28, 28])\n",
      "torch.Size([])\n",
      "torch.Size([10, 1, 28, 28])\n",
      "torch.Size([])\n",
      "torch.Size([10, 1, 28, 28])\n",
      "torch.Size([])\n",
      "torch.Size([10, 1, 28, 28])\n",
      "torch.Size([])\n",
      "torch.Size([10, 1, 28, 28])\n",
      "torch.Size([])\n",
      "torch.Size([10, 1, 28, 28])\n",
      "torch.Size([])\n",
      "torch.Size([10, 1, 28, 28])\n",
      "torch.Size([])\n",
      "torch.Size([10, 1, 28, 28])\n",
      "torch.Size([])\n",
      "torch.Size([10, 1, 28, 28])\n",
      "torch.Size([])\n",
      "torch.Size([10, 1, 28, 28])\n",
      "torch.Size([])\n",
      "torch.Size([10, 1, 28, 28])\n",
      "torch.Size([])\n",
      "torch.Size([10, 1, 28, 28])\n",
      "torch.Size([])\n",
      "torch.Size([10, 1, 28, 28])\n",
      "torch.Size([])\n",
      "torch.Size([10, 1, 28, 28])\n",
      "torch.Size([])\n",
      "torch.Size([10, 1, 28, 28])\n",
      "torch.Size([])\n",
      "torch.Size([10, 1, 28, 28])\n",
      "torch.Size([])\n",
      "torch.Size([10, 1, 28, 28])\n",
      "torch.Size([])\n",
      "torch.Size([10, 1, 28, 28])\n",
      "torch.Size([])\n",
      "torch.Size([10, 1, 28, 28])\n",
      "torch.Size([])\n",
      "torch.Size([10, 1, 28, 28])\n",
      "torch.Size([])\n",
      "torch.Size([10, 1, 28, 28])\n",
      "torch.Size([])\n",
      "torch.Size([10, 1, 28, 28])\n",
      "torch.Size([])\n",
      "torch.Size([10, 1, 28, 28])\n",
      "torch.Size([])\n",
      "torch.Size([10, 1, 28, 28])\n",
      "torch.Size([])\n",
      "torch.Size([10, 1, 28, 28])\n",
      "torch.Size([])\n",
      "torch.Size([10, 1, 28, 28])\n",
      "torch.Size([])\n",
      "torch.Size([10, 1, 28, 28])\n",
      "torch.Size([])\n",
      "torch.Size([10, 1, 28, 28])\n",
      "torch.Size([])\n",
      "torch.Size([10, 1, 28, 28])\n",
      "torch.Size([])\n",
      "torch.Size([10, 1, 28, 28])\n",
      "torch.Size([])\n",
      "torch.Size([10, 1, 28, 28])\n",
      "torch.Size([])\n",
      "torch.Size([10, 1, 28, 28])\n",
      "torch.Size([])\n",
      "torch.Size([10, 1, 28, 28])\n",
      "torch.Size([])\n",
      "torch.Size([10, 1, 28, 28])\n",
      "torch.Size([])\n",
      "torch.Size([10, 1, 28, 28])\n",
      "torch.Size([])\n",
      "torch.Size([10, 1, 28, 28])\n",
      "torch.Size([])\n",
      "torch.Size([10, 1, 28, 28])\n",
      "torch.Size([])\n",
      "torch.Size([10, 1, 28, 28])\n",
      "torch.Size([])\n",
      "torch.Size([10, 1, 28, 28])\n",
      "torch.Size([])\n",
      "torch.Size([10, 1, 28, 28])\n",
      "torch.Size([])\n",
      "torch.Size([10, 1, 28, 28])\n",
      "torch.Size([])\n",
      "torch.Size([10, 1, 28, 28])\n",
      "torch.Size([])\n",
      "torch.Size([10, 1, 28, 28])\n",
      "torch.Size([])\n",
      "torch.Size([10, 1, 28, 28])\n",
      "torch.Size([])\n",
      "torch.Size([10, 1, 28, 28])\n",
      "torch.Size([])\n",
      "torch.Size([10, 1, 28, 28])\n",
      "torch.Size([])\n",
      "torch.Size([10, 1, 28, 28])\n",
      "torch.Size([])\n",
      "torch.Size([10, 1, 28, 28])\n",
      "torch.Size([])\n",
      "torch.Size([10, 1, 28, 28])\n",
      "torch.Size([])\n",
      "torch.Size([10, 1, 28, 28])\n",
      "torch.Size([])\n",
      "torch.Size([10, 1, 28, 28])\n",
      "torch.Size([])\n",
      "torch.Size([10, 1, 28, 28])\n",
      "torch.Size([])\n",
      "torch.Size([10, 1, 28, 28])\n"
     ]
    }
   ],
   "source": [
    "test_loader = DataLoader(mnist_testset, batch_size = 10, shuffle=True)\n",
    "x,y = next(iter(test_loader))\n",
    "##########################################################\n",
    "# YOUR CODE HERE\n",
    "loss, logits = loss_function(x,y,model)\n",
    "x_pert_l2 = fast_gradient_attack( logits, x, y, epsilon = 5, norm = \"2\" )\n",
    "y_pert_l2 = torch.argmax( model( x_pert_l2) , 1)\n",
    "\n",
    "for i in range(200):\n",
    "    loss, logits = loss_function(x_pert_l2,y,model)\n",
    "    x_pert_l2 = fast_gradient_attack( logits, x_pert_l2, y, epsilon = 5, norm = \"2\" )\n",
    "    y_pert_l2 = torch.argmax( model( x_pert_l2) , 1)\n",
    "    \n",
    "##########################################################"
   ]
  },
  {
   "cell_type": "markdown",
   "metadata": {},
   "source": [
    "$L_\\infty$ attack:"
   ]
  },
  {
   "cell_type": "code",
   "execution_count": 400,
   "metadata": {},
   "outputs": [
    {
     "name": "stdout",
     "output_type": "stream",
     "text": [
      "torch.Size([])\n",
      "tensor(1.)\n"
     ]
    }
   ],
   "source": [
    "##########################################################\n",
    "# YOUR CODE HERE\n",
    "x_pert_linf = fast_gradient_attack( logits, x, y, epsilon = 0.3, norm = \"inf\" )\n",
    "y_pert_linf = torch.argmax( model( x_pert_linf) , 1)\n",
    "##########################################################"
   ]
  },
  {
   "cell_type": "markdown",
   "metadata": {},
   "source": [
    "Visualize the adversarial examples and the model's prediction on them:"
   ]
  },
  {
   "cell_type": "code",
   "execution_count": 401,
   "metadata": {},
   "outputs": [
    {
     "data": {
      "image/png": "[encoded data removed]",
      "text/plain": [
       "<Figure size 432x288 with 3 Axes>"
      ]
     },
     "metadata": {
      "needs_background": "light"
     },
     "output_type": "display_data"
    },
    {
     "data": {
      "image/png": "[encoded data removed]",
      "text/plain": [
       "<Figure size 432x288 with 3 Axes>"
      ]
     },
     "metadata": {
      "needs_background": "light"
     },
     "output_type": "display_data"
    },
    {
     "data": {
      "image/png": "[encoded data removed]",
      "text/plain": [
       "<Figure size 432x288 with 3 Axes>"
      ]
     },
     "metadata": {
      "needs_background": "light"
     },
     "output_type": "display_data"
    },
    {
     "data": {
      "image/png": "[encoded data removed]",
      "text/plain": [
       "<Figure size 432x288 with 3 Axes>"
      ]
     },
     "metadata": {
      "needs_background": "light"
     },
     "output_type": "display_data"
    },
    {
     "data": {
      "image/png": "[encoded data removed]",
      "text/plain": [
       "<Figure size 432x288 with 3 Axes>"
      ]
     },
     "metadata": {
      "needs_background": "light"
     },
     "output_type": "display_data"
    },
    {
     "data": {
      "image/png": "[encoded data removed]",
      "text/plain": [
       "<Figure size 432x288 with 3 Axes>"
      ]
     },
     "metadata": {
      "needs_background": "light"
     },
     "output_type": "display_data"
    },
    {
     "data": {
      "image/png": "[encoded data removed]",
      "text/plain": [
       "<Figure size 432x288 with 3 Axes>"
      ]
     },
     "metadata": {
      "needs_background": "light"
     },
     "output_type": "display_data"
    },
    {
     "data": {
      "image/png": "[encoded data removed]",
      "text/plain": [
       "<Figure size 432x288 with 3 Axes>"
      ]
     },
     "metadata": {
      "needs_background": "light"
     },
     "output_type": "display_data"
    },
    {
     "data": {
      "image/png": "[encoded data removed]",
      "text/plain": [
       "<Figure size 432x288 with 3 Axes>"
      ]
     },
     "metadata": {
      "needs_background": "light"
     },
     "output_type": "display_data"
    },
    {
     "data": {
      "image/png": "[encoded data removed]",
      "text/plain": [
       "<Figure size 432x288 with 3 Axes>"
      ]
     },
     "metadata": {
      "needs_background": "light"
     },
     "output_type": "display_data"
    }
   ],
   "source": [
    "for ix in range(len(x)):\n",
    "    plt.subplot(131)\n",
    "    plt.imshow(x[ix,0].detach().cpu(), cmap=\"gray\")\n",
    "    plt.title(f\"Label: {y[ix]}\")\n",
    "    plt.subplot(132)\n",
    "    plt.imshow(x_pert_l2[ix,0].detach().cpu(), cmap=\"gray\")\n",
    "    plt.title(f\"Predicted: {y_pert_l2[ix]}\")\n",
    "    \n",
    "    plt.subplot(133)\n",
    "    plt.imshow(x_pert_linf[ix,0].detach().cpu(), cmap=\"gray\")\n",
    "    plt.title(f\"Predicted: {y_pert_linf[ix]}\")\n",
    "    plt.show()"
   ]
  },
  {
   "cell_type": "markdown",
   "metadata": {},
   "source": [
    "### Quantitative evaluation\n",
    "Perturb each test sample and compare the clean and perturbed accuracies."
   ]
  },
  {
   "cell_type": "markdown",
   "metadata": {},
   "source": [
    "$L_2$ perturbations:"
   ]
  },
  {
   "cell_type": "code",
   "execution_count": 350,
   "metadata": {},
   "outputs": [
    {
     "data": {
      "application/vnd.jupyter.widget-view+json": {
       "model_id": "a5ce9793b1814c1d8dcd43916ed58271",
       "version_major": 2,
       "version_minor": 0
      },
      "text/plain": [
       "HBox(children=(IntProgress(value=0, max=10), HTML(value='')))"
      ]
     },
     "metadata": {},
     "output_type": "display_data"
    }
   ],
   "source": [
    "perturbed_accuracy_l2 = predict_model(model, mnist_testset, batch_size=test_batch_size, attack_function=fast_gradient_attack, attack_args=attack_args_l2)"
   ]
  },
  {
   "cell_type": "markdown",
   "metadata": {},
   "source": [
    "$L_\\infty$ perturbations:"
   ]
  },
  {
   "cell_type": "code",
   "execution_count": 351,
   "metadata": {},
   "outputs": [
    {
     "data": {
      "application/vnd.jupyter.widget-view+json": {
       "model_id": "f2a81462cad747618ccb3938f301cc6e",
       "version_major": 2,
       "version_minor": 0
      },
      "text/plain": [
       "HBox(children=(IntProgress(value=0, max=10), HTML(value='')))"
      ]
     },
     "metadata": {},
     "output_type": "display_data"
    }
   ],
   "source": [
    "perturbed_accuracy_linf = predict_model(model, mnist_testset, batch_size=test_batch_size, attack_function=fast_gradient_attack, attack_args=attack_args_linf)"
   ]
  },
  {
   "cell_type": "markdown",
   "metadata": {},
   "source": [
    "Your values for `clean_accuracy` and `perturbed_accuracy` should roughly match the ones below, even though they will of course not be identical."
   ]
  },
  {
   "cell_type": "code",
   "execution_count": 352,
   "metadata": {},
   "outputs": [
    {
     "data": {
      "text/plain": [
       "0.9563000202178955"
      ]
     },
     "execution_count": 352,
     "metadata": {},
     "output_type": "execute_result"
    }
   ],
   "source": [
    "clean_accuracy"
   ]
  },
  {
   "cell_type": "code",
   "execution_count": 353,
   "metadata": {},
   "outputs": [
    {
     "data": {
      "text/plain": [
       "0.9563000202178955"
      ]
     },
     "execution_count": 353,
     "metadata": {},
     "output_type": "execute_result"
    }
   ],
   "source": [
    "perturbed_accuracy_l2"
   ]
  },
  {
   "cell_type": "code",
   "execution_count": 354,
   "metadata": {},
   "outputs": [
    {
     "data": {
      "text/plain": [
       "0.9563000202178955"
      ]
     },
     "execution_count": 354,
     "metadata": {},
     "output_type": "execute_result"
    }
   ],
   "source": [
    "perturbed_accuracy_linf"
   ]
  },
  {
   "cell_type": "markdown",
   "metadata": {},
   "source": [
    "#### In the remaining parts of this project we will be focusing on **$L_2$-based attacks only**."
   ]
  }
 ],
 "metadata": {
  "kernelspec": {
   "display_name": "Python 3",
   "language": "python",
   "name": "python3"
  },
  "language_info": {
   "codemirror_mode": {
    "name": "ipython",
    "version": 3
   },
   "file_extension": ".py",
   "mimetype": "text/x-python",
   "name": "python",
   "nbconvert_exporter": "python",
   "pygments_lexer": "ipython3",
   "version": "3.7.3"
  },
  "pycharm": {
   "stem_cell": {
    "cell_type": "raw",
    "metadata": {
     "collapsed": false
    },
    "source": []
   }
  }
 },
 "nbformat": 4,
 "nbformat_minor": 4
}
